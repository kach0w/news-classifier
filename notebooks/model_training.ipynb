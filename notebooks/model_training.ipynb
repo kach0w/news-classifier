{
 "cells": [
  {
   "cell_type": "code",
   "execution_count": 67,
   "metadata": {},
   "outputs": [],
   "source": [
    "import pandas as pd\n",
    "import numpy as np\n",
    "from sklearn.cluster import KMeans\n",
    "import requests\n",
    "import json\n",
    "import random"
   ]
  },
  {
   "cell_type": "code",
   "execution_count": 97,
   "metadata": {},
   "outputs": [
    {
     "data": {
      "text/plain": [
       "(209527, 6)"
      ]
     },
     "execution_count": 97,
     "metadata": {},
     "output_type": "execute_result"
    }
   ],
   "source": [
    "df = pd.read_json(\"data.json\", lines=True)\n",
    "# df = df.sample(3000)\n",
    "df.shape"
   ]
  },
  {
   "cell_type": "code",
   "execution_count": 98,
   "metadata": {},
   "outputs": [],
   "source": [
    "from sklearn.model_selection import train_test_split\n",
    "from sklearn.metrics import accuracy_score"
   ]
  },
  {
   "cell_type": "code",
   "execution_count": 99,
   "metadata": {},
   "outputs": [
    {
     "data": {
      "text/plain": [
       "POLITICS          35602\n",
       "WELLNESS          17945\n",
       "ENTERTAINMENT     17362\n",
       "TRAVEL             9900\n",
       "STYLE & BEAUTY     9814\n",
       "PARENTING          8791\n",
       "HEALTHY LIVING     6694\n",
       "QUEER VOICES       6347\n",
       "FOOD & DRINK       6340\n",
       "BUSINESS           5992\n",
       "COMEDY             5400\n",
       "SPORTS             5077\n",
       "BLACK VOICES       4583\n",
       "HOME & LIVING      4320\n",
       "PARENTS            3955\n",
       "THE WORLDPOST      3664\n",
       "WEDDINGS           3653\n",
       "WOMEN              3572\n",
       "CRIME              3562\n",
       "IMPACT             3484\n",
       "DIVORCE            3426\n",
       "WORLD NEWS         3299\n",
       "MEDIA              2944\n",
       "WEIRD NEWS         2777\n",
       "GREEN              2622\n",
       "WORLDPOST          2579\n",
       "RELIGION           2577\n",
       "STYLE              2254\n",
       "SCIENCE            2206\n",
       "TECH               2104\n",
       "TASTE              2096\n",
       "MONEY              1756\n",
       "ARTS               1509\n",
       "ENVIRONMENT        1444\n",
       "FIFTY              1401\n",
       "GOOD NEWS          1398\n",
       "U.S. NEWS          1377\n",
       "ARTS & CULTURE     1339\n",
       "COLLEGE            1144\n",
       "LATINO VOICES      1130\n",
       "CULTURE & ARTS     1074\n",
       "EDUCATION          1014\n",
       "Name: category, dtype: int64"
      ]
     },
     "execution_count": 99,
     "metadata": {},
     "output_type": "execute_result"
    }
   ],
   "source": [
    "df[\"category\"].value_counts() # i'll do the top 10"
   ]
  },
  {
   "cell_type": "code",
   "execution_count": 100,
   "metadata": {},
   "outputs": [
    {
     "data": {
      "text/html": [
       "<div>\n",
       "<style scoped>\n",
       "    .dataframe tbody tr th:only-of-type {\n",
       "        vertical-align: middle;\n",
       "    }\n",
       "\n",
       "    .dataframe tbody tr th {\n",
       "        vertical-align: top;\n",
       "    }\n",
       "\n",
       "    .dataframe thead th {\n",
       "        text-align: right;\n",
       "    }\n",
       "</style>\n",
       "<table border=\"1\" class=\"dataframe\">\n",
       "  <thead>\n",
       "    <tr style=\"text-align: right;\">\n",
       "      <th></th>\n",
       "      <th>headline</th>\n",
       "      <th>category</th>\n",
       "    </tr>\n",
       "  </thead>\n",
       "  <tbody>\n",
       "    <tr>\n",
       "      <th>0</th>\n",
       "      <td>Over 4 Million Americans Roll Up Sleeves For O...</td>\n",
       "      <td>U.S. NEWS</td>\n",
       "    </tr>\n",
       "    <tr>\n",
       "      <th>1</th>\n",
       "      <td>American Airlines Flyer Charged, Banned For Li...</td>\n",
       "      <td>U.S. NEWS</td>\n",
       "    </tr>\n",
       "    <tr>\n",
       "      <th>2</th>\n",
       "      <td>23 Of The Funniest Tweets About Cats And Dogs ...</td>\n",
       "      <td>COMEDY</td>\n",
       "    </tr>\n",
       "    <tr>\n",
       "      <th>3</th>\n",
       "      <td>The Funniest Tweets From Parents This Week (Se...</td>\n",
       "      <td>PARENTING</td>\n",
       "    </tr>\n",
       "    <tr>\n",
       "      <th>4</th>\n",
       "      <td>Woman Who Called Cops On Black Bird-Watcher Lo...</td>\n",
       "      <td>U.S. NEWS</td>\n",
       "    </tr>\n",
       "    <tr>\n",
       "      <th>...</th>\n",
       "      <td>...</td>\n",
       "      <td>...</td>\n",
       "    </tr>\n",
       "    <tr>\n",
       "      <th>209522</th>\n",
       "      <td>RIM CEO Thorsten Heins' 'Significant' Plans Fo...</td>\n",
       "      <td>TECH</td>\n",
       "    </tr>\n",
       "    <tr>\n",
       "      <th>209523</th>\n",
       "      <td>Maria Sharapova Stunned By Victoria Azarenka I...</td>\n",
       "      <td>SPORTS</td>\n",
       "    </tr>\n",
       "    <tr>\n",
       "      <th>209524</th>\n",
       "      <td>Giants Over Patriots, Jets Over Colts Among  M...</td>\n",
       "      <td>SPORTS</td>\n",
       "    </tr>\n",
       "    <tr>\n",
       "      <th>209525</th>\n",
       "      <td>Aldon Smith Arrested: 49ers Linebacker Busted ...</td>\n",
       "      <td>SPORTS</td>\n",
       "    </tr>\n",
       "    <tr>\n",
       "      <th>209526</th>\n",
       "      <td>Dwight Howard Rips Teammates After Magic Loss ...</td>\n",
       "      <td>SPORTS</td>\n",
       "    </tr>\n",
       "  </tbody>\n",
       "</table>\n",
       "<p>209527 rows × 2 columns</p>\n",
       "</div>"
      ],
      "text/plain": [
       "                                                 headline   category\n",
       "0       Over 4 Million Americans Roll Up Sleeves For O...  U.S. NEWS\n",
       "1       American Airlines Flyer Charged, Banned For Li...  U.S. NEWS\n",
       "2       23 Of The Funniest Tweets About Cats And Dogs ...     COMEDY\n",
       "3       The Funniest Tweets From Parents This Week (Se...  PARENTING\n",
       "4       Woman Who Called Cops On Black Bird-Watcher Lo...  U.S. NEWS\n",
       "...                                                   ...        ...\n",
       "209522  RIM CEO Thorsten Heins' 'Significant' Plans Fo...       TECH\n",
       "209523  Maria Sharapova Stunned By Victoria Azarenka I...     SPORTS\n",
       "209524  Giants Over Patriots, Jets Over Colts Among  M...     SPORTS\n",
       "209525  Aldon Smith Arrested: 49ers Linebacker Busted ...     SPORTS\n",
       "209526  Dwight Howard Rips Teammates After Magic Loss ...     SPORTS\n",
       "\n",
       "[209527 rows x 2 columns]"
      ]
     },
     "execution_count": 100,
     "metadata": {},
     "output_type": "execute_result"
    }
   ],
   "source": [
    "df[[\"headline\", \"category\"]]"
   ]
  },
  {
   "cell_type": "code",
   "execution_count": 101,
   "metadata": {},
   "outputs": [],
   "source": [
    "df['category']=df['category'].replace({\"HEALTHY LIVING\": \"WELLNESS\",\n",
    "\"QUEER VOICES\": \"GROUPS VOICES\",\n",
    "\"BUSINESS\": \"BUSINESS & FINANCES\",\n",
    "\"PARENTS\": \"PARENTING\",\n",
    "\"BLACK VOICES\": \"GROUPS VOICES\",\n",
    "\"THE WORLDPOST\": \"WORLD NEWS\",\n",
    "\"STYLE\": \"STYLE & BEAUTY\",\n",
    "\"GREEN\": \"ENVIRONMENT\",\n",
    "\"TASTE\": \"FOOD & DRINK\",\n",
    "\"WORLDPOST\": \"WORLD NEWS\",\n",
    "\"SCIENCE\": \"SCIENCE & TECH\",\n",
    "\"TECH\": \"SCIENCE & TECH\",\n",
    "\"MONEY\": \"BUSINESS & FINANCES\",\n",
    "\"ARTS\": \"ARTS & CULTURE\",\n",
    "\"COLLEGE\": \"EDUCATION\",\n",
    "\"LATINO VOICES\": \"GROUPS VOICES\",\n",
    "\"CULTURE & ARTS\": \"ARTS & CULTURE\",\n",
    "\"FIFTY\": \"MISCELLANEOUS\",\n",
    "\"GOOD NEWS\": \"MISCELLANEOUS\"})"
   ]
  },
  {
   "cell_type": "code",
   "execution_count": 102,
   "metadata": {},
   "outputs": [],
   "source": [
    "df.drop_duplicates(['headline','short_description'], keep = 'last', inplace = True)"
   ]
  },
  {
   "cell_type": "code",
   "execution_count": 103,
   "metadata": {},
   "outputs": [],
   "source": [
    "balanced_data = pd.DataFrame() # getting the top 10 and balancing\n",
    "#5077 sports\n",
    "from sklearn.utils import resample\n",
    "for i in [\"POLITICS\", \"WELLNESS\", \"ENTERTAINMENT\",  \"PARENTING\", \"STYLE & BEAUTY\", \"GROUPS VOICES\", \"TRAVEL\", \"WORLD NEWS\", \"FOOD & DRINK\", \"BUSINESS & FINANCES\", \"COMEDY\", \"SPORTS\"]:\n",
    "    row = df[df[\"category\"] == i]\n",
    "    row = (resample(row, replace=False, n_samples=5000, random_state=123))\n",
    "    balanced_data = pd.concat([balanced_data, row])\n",
    "    \n",
    "balanced_data[\"category\"].value_counts() # ok now it's balanced\n",
    "df = balanced_data"
   ]
  },
  {
   "cell_type": "code",
   "execution_count": 104,
   "metadata": {},
   "outputs": [],
   "source": [
    "df[\"texts\"] = df[\"headline\"] + \" \" + df[\"short_description\"]\n",
    "df.drop([\"headline\", \"short_description\"], inplace=True, axis=1)\n",
    "texts = df[\"texts\"]\n",
    "labels = df[\"category\"]"
   ]
  },
  {
   "cell_type": "code",
   "execution_count": 105,
   "metadata": {},
   "outputs": [],
   "source": [
    "from sklearn.feature_extraction.text import TfidfVectorizer\n",
    "from sklearn.naive_bayes import MultinomialNB\n",
    "from sklearn.pipeline import make_pipeline\n",
    "\n",
    "model = make_pipeline(TfidfVectorizer(), MultinomialNB())"
   ]
  },
  {
   "cell_type": "code",
   "execution_count": 106,
   "metadata": {},
   "outputs": [],
   "source": [
    "texts_train, texts_test, labels_train, labels_test = train_test_split(texts, labels, test_size=0.4, random_state=42)\n",
    "model.fit(texts_train, labels_train)\n",
    "pred_labels = model.predict(texts_test)"
   ]
  },
  {
   "cell_type": "code",
   "execution_count": 107,
   "metadata": {},
   "outputs": [
    {
     "name": "stdout",
     "output_type": "stream",
     "text": [
      "Accuracy: 0.712625\n"
     ]
    }
   ],
   "source": [
    "accuracy = accuracy_score(pred_labels, labels_test)\n",
    "print(f\"Accuracy: {accuracy}\")"
   ]
  },
  {
   "cell_type": "code",
   "execution_count": 111,
   "metadata": {},
   "outputs": [
    {
     "name": "stdout",
     "output_type": "stream",
     "text": [
      "['SPORTS']\n"
     ]
    }
   ],
   "source": [
    "\n",
    "print(model.predict([\"MLS Cup Highlights: Columbus Crew SC vs. LAFC | December 9, 2023 | 📺 Watch every match with MLS Season Pass on Apple TV: http://apple.co/MLSThe 🐐 plays here. Join The Messi Insider for insider news, early access to Messi p....\"]))"
   ]
  },
  {
   "cell_type": "code",
   "execution_count": 110,
   "metadata": {},
   "outputs": [],
   "source": [
    "import pickle\n",
    "\n",
    "pickle.dump(model, open('model.pkl', 'wb'))"
   ]
  }
 ],
 "metadata": {
  "kernelspec": {
   "display_name": "base",
   "language": "python",
   "name": "python3"
  },
  "language_info": {
   "codemirror_mode": {
    "name": "ipython",
    "version": 3
   },
   "file_extension": ".py",
   "mimetype": "text/x-python",
   "name": "python",
   "nbconvert_exporter": "python",
   "pygments_lexer": "ipython3",
   "version": "3.9.13"
  }
 },
 "nbformat": 4,
 "nbformat_minor": 2
}
